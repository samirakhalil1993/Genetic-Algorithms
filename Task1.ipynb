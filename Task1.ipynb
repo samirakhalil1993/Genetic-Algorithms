{
 "cells": [
  {
   "cell_type": "code",
   "execution_count": 92,
   "metadata": {},
   "outputs": [],
   "source": [
    "# Imports\n",
    "import numpy as np          # Importerar numpy-biblioteket, ett populärt paket för vetenskapliga beräkningar och arbete med stora flerdimensionella matriser.\n",
    "import random               # Importerar random-modulen, som tillhandahåller funktioner för att generera slumpmässiga tal och val.\n",
    "from datetime import datetime # Importerar datetime-klassen från datetime-modulen, används för att arbeta med datum och tid.\n"
   ]
  },
  {
   "cell_type": "code",
   "execution_count": 93,
   "metadata": {},
   "outputs": [],
   "source": [
    "# Parameters\n",
    "population_sizes = [10, 20, 50, 100]  # Olika populationsstorlekar att testa\n",
    "mutation_rates = [0.9, 0.6, 0.3, 0.1]  # Olika mutationsfrekvenser att testa\n",
    "\n",
    "n_cities = 20            # Definierar antalet städer i problemet, troligen för ett resande säljare-problem (TSP) eller liknande optimeringsproblem.\n"
   ]
  },
  {
   "cell_type": "code",
   "execution_count": 94,
   "metadata": {},
   "outputs": [
    {
     "data": {
      "text/plain": [
       "{'Berlin': [10, 82],\n",
       " 'London': [2, 80],\n",
       " 'Moscow': [97, 78],\n",
       " 'Barcelona': [52, 22],\n",
       " 'Rome': [32, 27],\n",
       " 'Paris': [59, 21],\n",
       " 'Vienna': [13, 79],\n",
       " 'Munich': [37, 87],\n",
       " 'Istanbul': [67, 96],\n",
       " 'Kyiv': [78, 63],\n",
       " 'Bucharest': [0, 14],\n",
       " 'Minsk': [94, 35],\n",
       " 'Warsaw': [59, 63],\n",
       " 'Budapest': [69, 38],\n",
       " 'Milan': [41, 9],\n",
       " 'Prague': [42, 14],\n",
       " 'Sofia': [54, 65],\n",
       " 'Birmingham': [13, 40],\n",
       " 'Brussels': [80, 84],\n",
       " 'Amsterdam': [79, 15]}"
      ]
     },
     "execution_count": 94,
     "metadata": {},
     "output_type": "execute_result"
    }
   ],
   "source": [
    "# Generating a list of coordinates representing each city\n",
    "coordinates_list = [[x,y] for x,y in zip(np.random.randint(0,100,n_cities), np.random.randint(0,100,n_cities))]\n",
    "# Skapar en lista med koordinater för varje stad. Koordinaterna är slumpmässigt genererade med heltal mellan 0 och 100, både för x- och y-värden. \n",
    "# Listförståelse används här för att skapa en lista med par [x, y] för varje stad.\n",
    "\n",
    "names_list = np.array(['Berlin', 'London', 'Moscow', 'Barcelona', 'Rome', 'Paris', 'Vienna', 'Munich', 'Istanbul', 'Kyiv', \n",
    "                       'Bucharest', 'Minsk', 'Warsaw', 'Budapest', 'Milan', 'Prague', 'Sofia', 'Birmingham', 'Brussels', 'Amsterdam'])\n",
    "# Skapar en NumPy-array som innehåller namn på 20 städer. Varje namn motsvarar en stad.\n",
    "\n",
    "cities_dict = { x:y for x,y in zip(names_list, coordinates_list)}\n",
    "# Skapar en dictionary (ordbok) där varje stadsnamn (från names_list) mappas till en uppsättning koordinater (från coordinates_list). \n",
    "# Detta gör det enkelt att slå upp en stads koordinater baserat på namnet.\n",
    "\n",
    "# Function to compute the distance between two points\n",
    "def compute_city_distance_coordinates(a,b):\n",
    "    return ((a[0]-b[0])**2+(a[1]-b[1])**2)**0.5\n",
    "# Denna funktion beräknar avståndet mellan två punkter (a och b) med hjälp av Euklidiskt avstånd. \n",
    "# a och b är listor som innehåller två värden (x, y), och formeln används för att beräkna distansen mellan dessa punkter.\n",
    "\n",
    "def compute_city_distance_names(city_a, city_b, cities_dict):\n",
    "    return compute_city_distance_coordinates(cities_dict[city_a], cities_dict[city_b])\n",
    "# Denna funktion tar två städers namn som argument (city_a och city_b) och använder cities_dict för att slå upp deras koordinater.\n",
    "# Sedan används funktionen compute_city_distance_coordinates för att beräkna avståndet mellan städerna baserat på deras koordinater.\n",
    "\n",
    "cities_dict\n",
    "# Returnerar ordboken (cities_dict) så att du kan se eller använda den i senare kod.\n"
   ]
  },
  {
   "cell_type": "code",
   "execution_count": 95,
   "metadata": {},
   "outputs": [
    {
     "data": {
      "text/plain": [
       "array([['Sofia', 'Munich', 'Rome', ..., 'Kyiv', 'Istanbul', 'London'],\n",
       "       ['Amsterdam', 'Barcelona', 'Berlin', ..., 'Paris', 'Kyiv',\n",
       "        'Warsaw'],\n",
       "       ['Istanbul', 'Munich', 'Paris', ..., 'Vienna', 'Prague',\n",
       "        'Birmingham'],\n",
       "       ...,\n",
       "       ['Birmingham', 'Bucharest', 'Berlin', ..., 'Munich', 'Prague',\n",
       "        'Paris'],\n",
       "       ['Vienna', 'Milan', 'Prague', ..., 'Istanbul', 'Sofia', 'Rome'],\n",
       "       ['Sofia', 'Paris', 'Brussels', ..., 'Berlin', 'Milan',\n",
       "        'Amsterdam']], dtype='<U10')"
      ]
     },
     "execution_count": 95,
     "metadata": {},
     "output_type": "execute_result"
    }
   ],
   "source": [
    "# First step: Create the first population set\n",
    "def genesis(city_list, n_population):\n",
    "    # Skapar en funktion som genererar den initiala populationen av lösningar.\n",
    "    # city_list är en lista över alla städer, och n_population är antalet lösningar som ska genereras.\n",
    "\n",
    "    population_set = []  # Skapar en tom lista för att lagra varje genererad lösning.\n",
    "    for i in range(n_population):  # Loopar n_population gånger för att generera varje lösning.\n",
    "        # Randomly generating a new solution\n",
    "        sol_i = city_list[np.random.choice(list(range(n_cities)), n_cities, replace=False)]\n",
    "        # Genererar en slumpmässig lösning genom att slumpmässigt välja n_cities städer från city_list utan återplacering.\n",
    "        # np.random.choice används för att slumpmässigt välja index och sedan hämta motsvarande städer.\n",
    "\n",
    "        population_set.append(sol_i)  # Lägger till den genererade lösningen till population_set-listan.\n",
    "\n",
    "    return np.array(population_set)  # Returnerar populationen som en NumPy-array för mer effektiv hantering.\n",
    "\n",
    "population_set = genesis(names_list, n_population)  # Genererar den första populationen av lösningar.\n",
    "population_set  # Visar populationen.\n"
   ]
  },
  {
   "cell_type": "code",
   "execution_count": 96,
   "metadata": {},
   "outputs": [],
   "source": [
    "def fitness_eval(city_list, cities_dict):\n",
    "    # Denna funktion beräknar fitness-värdet (eller kostnaden) för en viss lösning (city_list) genom att summera avstånden mellan alla städer.\n",
    "    # city_list är en lista över städer i den ordning de besöks, och cities_dict är en ordbok med stadens namn som nyckel och koordinater som värde.\n",
    "\n",
    "    total = 0  # Initialiserar totalavståndet till noll.\n",
    "    for i in range(n_cities - 1):  # Loopar genom varje stad i lösningen fram till den näst sista staden.\n",
    "        a = city_list[i]  # Hämtar den aktuella staden.\n",
    "        b = city_list[i + 1]  # Hämtar nästa stad i listan.\n",
    "        total += compute_city_distance_names(a, b, cities_dict)  \n",
    "        # Beräknar avståndet mellan den aktuella staden (a) och nästa stad (b), \n",
    "        # och lägger till detta avstånd till totalvärdet.\n",
    "\n",
    "    return total  # Returnerar den totala distansen för staden i den aktuella ordningen.\n"
   ]
  },
  {
   "cell_type": "code",
   "execution_count": 97,
   "metadata": {},
   "outputs": [
    {
     "data": {
      "text/plain": [
       "array([1051.46749426,  935.8248257 , 1172.90652377, 1091.31447528,\n",
       "        980.81657555, 1167.36375564, 1038.95089306, 1087.16180889,\n",
       "       1133.81593114, 1052.83512667, 1149.20402089,  937.08065763,\n",
       "       1095.28764842, 1006.43608781, 1007.18144838, 1145.48883469,\n",
       "       1076.54377399, 1008.8501479 ,  879.16999577, 1113.10512979,\n",
       "       1011.68599436, 1140.71103579,  942.2139917 ,  947.43099682,\n",
       "        905.70827023, 1170.76756489, 1090.08978647,  940.01984683,\n",
       "       1188.01937123,  992.73562723, 1008.10355555, 1190.22398542,\n",
       "       1089.76797906, 1092.06247413, 1011.61485844, 1206.48257287,\n",
       "       1035.20220246, 1111.66328091, 1027.07957133,  938.65645455,\n",
       "        985.63342236, 1124.91207974, 1136.70178728, 1086.20163435,\n",
       "       1123.75615078,  963.19983869, 1025.2854587 , 1048.30354965,\n",
       "       1186.52361672,  943.7503106 , 1115.29201814,  942.4168685 ,\n",
       "       1005.35095211,  985.84469094,  891.57942168, 1167.81294613,\n",
       "       1215.79241419, 1136.11626704, 1130.09986349, 1029.61553648,\n",
       "        958.10279491,  980.76731279, 1024.08880908, 1194.7826485 ,\n",
       "       1076.91486316,  970.8454748 ,  894.73864867, 1048.28995431,\n",
       "       1158.92970378,  978.25730453, 1088.79015292,  995.57020152,\n",
       "       1036.65169774,  995.36636487,  937.91688834, 1001.63675321,\n",
       "        945.99630114, 1022.17253633,  881.18806972,  880.11198864,\n",
       "       1072.14712675, 1054.52426045,  990.27192362, 1024.48332011,\n",
       "        983.44621049, 1174.60441225, 1118.99608926,  999.82302127,\n",
       "       1069.33611316, 1060.27909133, 1023.0462158 , 1080.37781498,\n",
       "       1242.92866796, 1085.95689901, 1031.52825493, 1017.67463484,\n",
       "        866.64459449,  909.98947661,  998.74965599, 1076.39887951])"
      ]
     },
     "execution_count": 97,
     "metadata": {},
     "output_type": "execute_result"
    }
   ],
   "source": [
    "def get_all_fitnes(population_set, cities_dict):\n",
    "    # Denna funktion beräknar fitness-värdet för varje lösning i hela populationen.\n",
    "    # population_set är en uppsättning av alla lösningar, och cities_dict är en ordbok med städers namn och koordinater.\n",
    "\n",
    "    fitnes_list = np.zeros(n_population)\n",
    "    # Skapar en NumPy-array fylld med nollor som kommer att lagra fitness-värdet för varje lösning. Arrayen har storleken n_population.\n",
    "\n",
    "    # Looping over all solutions computing the fitness for each solution\n",
    "    for i in range(n_population):  # Loopar genom varje lösning i populationen.\n",
    "        fitnes_list[i] = fitness_eval(population_set[i], cities_dict)\n",
    "        # Beräknar fitness-värdet för den i:te lösningen genom att använda fitness_eval-funktionen och lagrar resultatet i fitnes_list.\n",
    "\n",
    "    return fitnes_list  # Returnerar listan med fitness-värden.\n",
    "\n",
    "fitnes_list = get_all_fitnes(population_set, cities_dict)  # Anropar funktionen för att beräkna fitness för hela populationen.\n",
    "fitnes_list  # Visar listan med fitness-värden.\n"
   ]
  },
  {
   "cell_type": "code",
   "execution_count": 98,
   "metadata": {},
   "outputs": [
    {
     "data": {
      "text/plain": [
       "array(['Kyiv', 'Istanbul', 'Birmingham', 'Minsk', 'Bucharest', 'Warsaw',\n",
       "       'Berlin', 'Munich', 'Prague', 'Rome', 'Barcelona', 'Milan',\n",
       "       'Brussels', 'Moscow', 'Amsterdam', 'Sofia', 'Paris', 'Budapest',\n",
       "       'Vienna', 'London'], dtype='<U10')"
      ]
     },
     "execution_count": 98,
     "metadata": {},
     "output_type": "execute_result"
    }
   ],
   "source": [
    "def progenitor_selection(population_set, fitnes_list):\n",
    "    # Denna funktion väljer progenitorer (föräldrar) för nästa generation genom att använda ett sannolikhetsbaserat urval.\n",
    "    # population_set är hela populationen, och fitnes_list är en lista med fitness-värden för varje lösning i populationen.\n",
    "\n",
    "    total_fit = fitnes_list.sum()\n",
    "    # Summerar alla fitness-värden i populationen. Detta används för att normalisera sannolikheterna.\n",
    "\n",
    "    prob_list = (total_fit / fitnes_list)\n",
    "    # Beräknar sannolikheten för varje lösning att bli vald som progenitor.\n",
    "    # De lösningar med lägre fitness får en högre sannolikhet, eftersom fitness-värden är lägre för bättre lösningar (omvänd proportion).\n",
    "\n",
    "    prob_list = prob_list / prob_list.sum()\n",
    "    # Normaliserar sannolikheterna så att de summerar till 1, vilket krävs för att kunna använda dem i np.random.choice.\n",
    "\n",
    "    # Notice there is the chance that a progenitor mates with oneself\n",
    "    progenitor_list_a = np.random.choice(list(range(len(population_set))), len(population_set), p=prob_list, replace=True)\n",
    "    # Väljer en uppsättning progenitorer (föräldrar) från populationen med sannolikheterna angivna av prob_list.\n",
    "    # replace=True betyder att en progenitor kan väljas flera gånger, vilket innebär att en individ kan para sig med sig själv.\n",
    "\n",
    "    progenitor_list_b = np.random.choice(list(range(len(population_set))), len(population_set), p=prob_list, replace=True)\n",
    "    # Samma som ovan, men för den andra uppsättningen progenitorer (andra föräldern i varje par).\n",
    "\n",
    "    progenitor_list_a = population_set[progenitor_list_a]\n",
    "    progenitor_list_b = population_set[progenitor_list_b]\n",
    "    # Använder de valda indexen för att hämta motsvarande lösningar från population_set och skapa listor över progenitorer.\n",
    "\n",
    "    return np.array([progenitor_list_a, progenitor_list_b])\n",
    "    # Returnerar en array där progenitor_list_a och progenitor_list_b representerar föräldraparen.\n",
    "\n",
    "progenitor_list = progenitor_selection(population_set, fitnes_list)\n",
    "# Anropar funktionen för att välja progenitorer baserat på den aktuella populationen och deras fitness-värden.\n",
    "\n",
    "progenitor_list[0][2]  # Visar den tredje progenitorn i den första progenitor-listan.\n"
   ]
  },
  {
   "cell_type": "code",
   "execution_count": 99,
   "metadata": {},
   "outputs": [
    {
     "data": {
      "text/plain": [
       "array(['Minsk', 'Budapest', 'Moscow', 'Kyiv', 'London', 'Milan',\n",
       "       'Bucharest', 'Paris', 'Brussels', 'Prague', 'Berlin', 'Warsaw',\n",
       "       'Istanbul', 'Vienna', 'Munich', 'Rome', 'Barcelona', 'Birmingham',\n",
       "       'Amsterdam', 'Sofia'], dtype='<U10')"
      ]
     },
     "execution_count": 99,
     "metadata": {},
     "output_type": "execute_result"
    }
   ],
   "source": [
    "def mate_progenitors(prog_a, prog_b):\n",
    "    # Denna funktion parar två progenitorer (prog_a och prog_b) och genererar en avkomma (offspring).\n",
    "    \n",
    "    offspring = prog_a[0:5]\n",
    "    # Tar de första 5 städerna från progenitor A (prog_a) som en grund för avkomman.\n",
    "\n",
    "    for city in prog_b:\n",
    "        # Itererar över alla städer i progenitor B (prog_b).\n",
    "        \n",
    "        if not city in offspring:\n",
    "            # Om staden från prog_b inte redan finns i offspring (ingen dubblett),\n",
    "            offspring = np.concatenate((offspring, [city]))\n",
    "            # Läggs staden till offspring genom att kombinera (concatenate) listan med den nya staden.\n",
    "\n",
    "    return offspring\n",
    "    # Returnerar den färdiga avkomman.\n",
    "\n",
    "def mate_population(progenitor_list):\n",
    "    # Denna funktion genererar en ny population genom att para alla progenitorpar.\n",
    "    \n",
    "    new_population_set = []\n",
    "    # Skapar en tom lista för att lagra den nya populationen (avkommor).\n",
    "\n",
    "    for i in range(progenitor_list.shape[1]):\n",
    "        # Loopar igenom varje par av progenitorer i progenitor_list.\n",
    "        \n",
    "        prog_a, prog_b = progenitor_list[0][i], progenitor_list[1][i]\n",
    "        # Hämtar respektive progenitor (prog_a och prog_b) från progenitor_list för index i.\n",
    "\n",
    "        offspring = mate_progenitors(prog_a, prog_b)\n",
    "        # Skapar en avkomma genom att para prog_a och prog_b.\n",
    "\n",
    "        new_population_set.append(offspring)\n",
    "        # Lägger till den nya avkomman i new_population_set.\n",
    "\n",
    "    return new_population_set\n",
    "    # Returnerar den nya populationen (listan med alla avkommor).\n",
    "\n",
    "new_population_set = mate_population(progenitor_list,)\n",
    "# Anropar funktionen för att skapa en ny population genom att para progenitorerna.\n",
    "\n",
    "new_population_set[0]\n",
    "# Visar den första avkomman i den nya populationen.\n"
   ]
  },
  {
   "cell_type": "code",
   "execution_count": 100,
   "metadata": {},
   "outputs": [
    {
     "data": {
      "text/plain": [
       "array(['Vienna', 'Budapest', 'Istanbul', 'Kyiv', 'London', 'Milan',\n",
       "       'Bucharest', 'Paris', 'Brussels', 'Prague', 'Berlin', 'Warsaw',\n",
       "       'Moscow', 'Minsk', 'Munich', 'Rome', 'Barcelona', 'Birmingham',\n",
       "       'Amsterdam', 'Sofia'], dtype='<U10')"
      ]
     },
     "execution_count": 100,
     "metadata": {},
     "output_type": "execute_result"
    }
   ],
   "source": [
    "def mutate_offspring(offspring):\n",
    "    # Denna funktion applicerar mutation på en enskild avkomma genom att byta plats på städer i resvägen.\n",
    "\n",
    "    for q in range(int(n_cities * mutation_rate)):\n",
    "        # Loopar ett antal gånger som är baserat på antalet städer multiplicerat med mutationsfrekvensen.\n",
    "        # Det anger hur många mutationer (bytesoperationer) som ska göras.\n",
    "\n",
    "        a = np.random.randint(0, n_cities)\n",
    "        b = np.random.randint(0, n_cities)\n",
    "        # Väljer två slumpmässiga index inom avkommans lista över städer.\n",
    "\n",
    "        offspring[a], offspring[b] = offspring[b], offspring[a]\n",
    "        # Byter plats på städerna vid de två slumpmässigt valda indexen (a och b).\n",
    "\n",
    "    return offspring\n",
    "    # Returnerar den muterade avkomman.\n",
    "\n",
    "def mutate_population(new_population_set):\n",
    "    # Denna funktion applicerar mutation på hela den nya populationen av avkommor.\n",
    "\n",
    "    mutated_pop = []\n",
    "    # Skapar en tom lista för att lagra den muterade populationen.\n",
    "\n",
    "    for offspring in new_population_set:\n",
    "        # Loopar igenom varje avkomma i den nya populationen.\n",
    "        mutated_pop.append(mutate_offspring(offspring))\n",
    "        # Muterar varje avkomma med funktionen mutate_offspring och lägger till den i listan mutated_pop.\n",
    "\n",
    "    return mutated_pop\n",
    "    # Returnerar den muterade populationen.\n",
    "\n",
    "mutated_pop = mutate_population(new_population_set)\n",
    "# Anropar funktionen för att mutera den nya populationen.\n",
    "\n",
    "mutated_pop[0]\n",
    "# Visar den första muterade avkomman i den nya populationen.\n"
   ]
  },
  {
   "cell_type": "code",
   "execution_count": 41,
   "metadata": {},
   "outputs": [
    {
     "data": {
      "text/plain": [
       "[3123,\n",
       " 619.2656888722124,\n",
       " array([['Munich', 'Moscow', 'Minsk', 'Bucharest', 'Vienna', 'Paris',\n",
       "         'Prague', 'Barcelona', 'Rome', 'Warsaw', 'Amsterdam', 'Brussels',\n",
       "         'Istanbul', 'London', 'Budapest', 'Berlin', 'Kyiv', 'Sofia',\n",
       "         'Milan', 'Birmingham']], dtype='<U10')]"
      ]
     },
     "execution_count": 41,
     "metadata": {},
     "output_type": "execute_result"
    }
   ],
   "source": []
  },
  {
   "cell_type": "code",
   "execution_count": null,
   "metadata": {},
   "outputs": [],
   "source": []
  }
 ],
 "metadata": {
  "kernelspec": {
   "display_name": "Python 3.10.6 64-bit",
   "language": "python",
   "name": "python3"
  },
  "language_info": {
   "codemirror_mode": {
    "name": "ipython",
    "version": 3
   },
   "file_extension": ".py",
   "mimetype": "text/x-python",
   "name": "python",
   "nbconvert_exporter": "python",
   "pygments_lexer": "ipython3",
   "version": "3.12.4"
  },
  "vscode": {
   "interpreter": {
    "hash": "33a4542e4cc6c10be1951f7181ece9e030a5d84a8de853c4e052a2492c0e6b9c"
   }
  }
 },
 "nbformat": 4,
 "nbformat_minor": 2
}
